{
  "cells": [
    {
      "cell_type": "markdown",
      "metadata": {
        "id": "0rF6v8Thu1RY"
      },
      "source": [
        "# Assignment 3"
      ]
    },
    {
      "cell_type": "markdown",
      "metadata": {
        "id": "bf0iejBwu1Rc"
      },
      "source": [
        "### Write a function to count the number 4 in a given list."
      ]
    },
    {
      "cell_type": "code",
      "execution_count": null,
      "metadata": {
        "colab": {
          "base_uri": "https://localhost:8080/"
        },
        "id": "rlhsAD3Ou1Rc",
        "outputId": "5ba37966-4508-4d37-e40a-56b8098b39ff"
      },
      "outputs": [
        {
          "output_type": "stream",
          "name": "stdout",
          "text": [
            "5\n"
          ]
        }
      ],
      "source": [
        "def Count4 (list1):\n",
        "  c=0;\n",
        "  for i in list1:\n",
        "    if i==4:\n",
        "      c+=1\n",
        "  return c\n",
        "\n",
        "list1=[4,4,5,4,4,4,7]\n",
        "print(Count4(list1))\n",
        "\n",
        "\n"
      ]
    },
    {
      "cell_type": "markdown",
      "metadata": {
        "id": "XEslB-6Au1Rd"
      },
      "source": [
        "### write a  function to check whether a number is divisible by another number."
      ]
    },
    {
      "cell_type": "code",
      "execution_count": null,
      "metadata": {
        "colab": {
          "base_uri": "https://localhost:8080/"
        },
        "id": "V8AmJy5Du1Rd",
        "outputId": "f4650e3f-ca42-4318-f68e-691ff77070c5"
      },
      "outputs": [
        {
          "output_type": "execute_result",
          "data": {
            "text/plain": [
              "False"
            ]
          },
          "metadata": {},
          "execution_count": 7
        }
      ],
      "source": [
        "def CheckDivisible(num1,num2):\n",
        "  if num1 % num2 ==0:\n",
        "    return True\n",
        "  else:\n",
        "    return False\n",
        "\n",
        "CheckDivisible(5,2)    "
      ]
    },
    {
      "cell_type": "markdown",
      "metadata": {
        "id": "218r1-iIu1Rd"
      },
      "source": [
        "### write a function to find the maximum and minimum numbers from a sequence of numbers."
      ]
    },
    {
      "cell_type": "code",
      "execution_count": null,
      "metadata": {
        "colab": {
          "base_uri": "https://localhost:8080/"
        },
        "id": "vvTP-ugxu1Re",
        "outputId": "3a3451ad-d28d-4a88-82f7-1ad3e7177d31"
      },
      "outputs": [
        {
          "output_type": "stream",
          "name": "stdout",
          "text": [
            "8 is maximum number\n",
            "1 is minimum number\n"
          ]
        }
      ],
      "source": [
        "def MaxAndMin(*numbers):\n",
        "  min=100000\n",
        "  max=0\n",
        "  for i in numbers:\n",
        "    if i< min:\n",
        "      min =i\n",
        "    elif i>max:\n",
        "      max=i\n",
        "\n",
        "  print(max,\"is maximum number\")\n",
        "  print(min,\"is minimum number\")\n",
        "\n",
        "MaxAndMin(1,2,3,4,5,6,7,8)\n"
      ]
    },
    {
      "cell_type": "markdown",
      "metadata": {
        "id": "BGLkhEaFu1Re"
      },
      "source": [
        "### Write a Python function that takes two lists and returns True if they have at least one common member."
      ]
    },
    {
      "cell_type": "code",
      "execution_count": null,
      "metadata": {
        "colab": {
          "base_uri": "https://localhost:8080/"
        },
        "id": "Cz0sLiEWu1Rf",
        "outputId": "1c8c4822-cc2f-4c29-d2aa-ae276580177b"
      },
      "outputs": [
        {
          "output_type": "execute_result",
          "data": {
            "text/plain": [
              "True"
            ]
          },
          "metadata": {},
          "execution_count": 12
        }
      ],
      "source": [
        "def CommonMember(list1,list2):\n",
        "  count=0\n",
        "  for i in list1:\n",
        "    for j in list2:\n",
        "      if i==j:\n",
        "        count+=1\n",
        "  if count>0:\n",
        "    return True\n",
        "  else:\n",
        "    return False\n",
        "\n",
        "\n",
        "list1=[1,2,3,4,5]\n",
        "list2=[5,6,7,8,9]\n",
        "CommonMember(list1,list2)          \n"
      ]
    },
    {
      "cell_type": "markdown",
      "metadata": {
        "id": "fHM7sDjPu1Rf"
      },
      "source": [
        "### Write a Python function to calculate the factorial of a number (a non-negative integer). The function accepts the number from the user"
      ]
    },
    {
      "cell_type": "code",
      "execution_count": 19,
      "metadata": {
        "collapsed": true,
        "id": "Nu4gLA_hu1Rf",
        "colab": {
          "base_uri": "https://localhost:8080/"
        },
        "outputId": "17b97e26-208d-483a-bc74-29ff01a9f5ee"
      },
      "outputs": [
        {
          "output_type": "stream",
          "name": "stdout",
          "text": [
            "enter a positive number:-4\n",
            "Error! Enter a positive number:-4\n",
            "Error! Enter a positive number:4\n",
            "24\n"
          ]
        }
      ],
      "source": [
        "def factorial(num):\n",
        "  if num==1:\n",
        "    return 1;\n",
        "  else:\n",
        "    return num*factorial(num-1)\n",
        "\n",
        "x=input(\"enter a positive number:\")\n",
        "num=int(x)\n",
        "while(num<0):\n",
        "  x=input(\"Error! Enter a positive number:\")\n",
        "  num=int(x)\n",
        "\n",
        "print(factorial(num))        "
      ]
    },
    {
      "cell_type": "markdown",
      "metadata": {
        "id": "_gxeZcQuu1Rf"
      },
      "source": [
        "### Write a Python function to check whether a number is in a given range.\n",
        "\n",
        "### The range is from 3 to 11\n"
      ]
    },
    {
      "cell_type": "code",
      "execution_count": 22,
      "metadata": {
        "collapsed": true,
        "id": "XepjZCnNu1Rg",
        "colab": {
          "base_uri": "https://localhost:8080/"
        },
        "outputId": "31135084-29e3-49b1-abef-7cdb43674b5b"
      },
      "outputs": [
        {
          "output_type": "execute_result",
          "data": {
            "text/plain": [
              "True"
            ]
          },
          "metadata": {},
          "execution_count": 22
        }
      ],
      "source": [
        "def CheckRange(num,Range):\n",
        "  if num in Range:\n",
        "    return True\n",
        "  else:\n",
        "    return False  \n",
        "\n",
        "Range=range(3,11)\n",
        "CheckRange(5,Range)"
      ]
    },
    {
      "cell_type": "markdown",
      "metadata": {
        "id": "k4v6i7ZCu1Rg"
      },
      "source": [
        "### Write a  program to create the multiplication table (from 1 to 10) of a number."
      ]
    },
    {
      "cell_type": "code",
      "execution_count": 4,
      "metadata": {
        "collapsed": true,
        "id": "Bf5wnZBzu1Rg",
        "colab": {
          "base_uri": "https://localhost:8080/"
        },
        "outputId": "a44e9d31-be7f-47a0-a52a-f537c442705e"
      },
      "outputs": [
        {
          "output_type": "stream",
          "name": "stdout",
          "text": [
            "enter the number:2\n",
            "That is the multiplication table of:   2\n",
            "2\n",
            "4\n",
            "6\n",
            "8\n",
            "10\n",
            "12\n",
            "14\n",
            "16\n",
            "18\n",
            "20\n"
          ]
        }
      ],
      "source": [
        "x=input(\"enter the number:\")\n",
        "num=int(x)\n",
        "print(\"That is the multiplication table of:\",\" \",num)\n",
        "for i in range(1,11):\n",
        "  result=i*num\n",
        "  print(result)\n"
      ]
    },
    {
      "cell_type": "markdown",
      "metadata": {
        "id": "ER1TqbL9u1Rh"
      },
      "source": [
        "#### LESSER OF TWO EVENS: Write a function that returns the lesser of two given numbers *if* both numbers are even, but returns the greater if one or both numbers are odd\n",
        "    lesser_of_two_evens(2,4) --> 2\n",
        "    lesser_of_two_evens(2,5) --> 5"
      ]
    },
    {
      "cell_type": "code",
      "execution_count": 12,
      "metadata": {
        "id": "igco8aIRu1Rh",
        "colab": {
          "base_uri": "https://localhost:8080/"
        },
        "outputId": "7c36ca3a-b2f2-4235-99c4-c84440ce755a"
      },
      "outputs": [
        {
          "output_type": "stream",
          "name": "stdout",
          "text": [
            "2\n",
            "5\n"
          ]
        }
      ],
      "source": [
        "def lesser_of_two_evens(n1,n2):\n",
        "  if n1%2==0 and n2%2==0:\n",
        "    if n1<n2:\n",
        "      return n1\n",
        "    elif n1>n2:\n",
        "      return n2\n",
        "  else:\n",
        "    if n1>n2:\n",
        "      return n1\n",
        "    elif n2>n1:\n",
        "      return n2\n",
        "\n",
        "print(lesser_of_two_evens(2,4))\n",
        "print(lesser_of_two_evens(2,5))             "
      ]
    },
    {
      "cell_type": "markdown",
      "metadata": {
        "id": "ATI2i2j9u1Rh"
      },
      "source": [
        "#### ANIMAL CRACKERS: Write a function takes a two-word string and returns True if both words begin with same letter\n",
        "    animal_crackers('Levelheaded Llama') --> True\n",
        "    animal_crackers('Crazy Kangaroo') --> False"
      ]
    },
    {
      "cell_type": "code",
      "execution_count": 16,
      "metadata": {
        "id": "jQne631Pu1Rh",
        "colab": {
          "base_uri": "https://localhost:8080/"
        },
        "outputId": "acebe987-87f5-4bc6-d349-ca337baf8230"
      },
      "outputs": [
        {
          "output_type": "stream",
          "name": "stdout",
          "text": [
            "True\n",
            "False\n"
          ]
        }
      ],
      "source": [
        "def animal_crackers (st):\n",
        "  list1=st.split()\n",
        "  if list1[0][0]==list1[1][0]:\n",
        "      return True\n",
        "  else:\n",
        "      return False\n",
        "\n",
        "print(animal_crackers('Levelheaded Llama'))  \n",
        "print(animal_crackers('Crazy Kangaroo'))      "
      ]
    },
    {
      "cell_type": "markdown",
      "metadata": {
        "id": "4ZJLGrTqu1Rh"
      },
      "source": [
        "#### MAKES TWENTY: Given two integers, return True if the sum of the integers is 20 *or* if one of the integers is 20. If not, return False\n",
        "\n",
        "    makes_twenty(20,10) --> True\n",
        "    makes_twenty(12,8) --> True\n",
        "    makes_twenty(2,3) --> False"
      ]
    },
    {
      "cell_type": "code",
      "execution_count": 20,
      "metadata": {
        "id": "qNLBR7mVu1Ri",
        "colab": {
          "base_uri": "https://localhost:8080/"
        },
        "outputId": "38ba7180-e624-4403-ebdf-c3589dc168fc"
      },
      "outputs": [
        {
          "output_type": "stream",
          "name": "stdout",
          "text": [
            "True\n",
            "True\n",
            "False\n"
          ]
        }
      ],
      "source": [
        "def makes_twenty(n1,n2):\n",
        "  if n1==20 or n2==20 or n1+n2==20:\n",
        "    return True\n",
        "  else:\n",
        "    return False\n",
        "\n",
        "print(makes_twenty(20,10))\n",
        "print(makes_twenty(12,8))\n",
        "print(makes_twenty(2,3))"
      ]
    },
    {
      "cell_type": "markdown",
      "metadata": {
        "id": "1L8yykA_u1Ri"
      },
      "source": [
        "#### ALMOST THERE: Given an integer n, return True if n is within 10 of either 100 or 200\n",
        "\n",
        "    almost_there(90) --> True\n",
        "    almost_there(104) --> True\n",
        "    almost_there(150) --> False\n",
        "    almost_there(209) --> True\n",
        "    \n",
        "NOTE: `abs(num)` returns the absolute value of a number"
      ]
    },
    {
      "cell_type": "code",
      "execution_count": 21,
      "metadata": {
        "id": "oo26yKHnu1Ri",
        "colab": {
          "base_uri": "https://localhost:8080/"
        },
        "outputId": "96e86b09-44fa-497a-fbcc-c78fc249d54f"
      },
      "outputs": [
        {
          "output_type": "stream",
          "name": "stdout",
          "text": [
            "True\n",
            "True\n",
            "False\n",
            "True\n"
          ]
        }
      ],
      "source": [
        "def almost_there(n):\n",
        "  if (n>=90 and n<=110)or (n>=190 and n<=210):\n",
        "    return True\n",
        "  else: \n",
        "    return False  \n",
        "\n",
        "print(almost_there(90))\n",
        "print(almost_there(104))\n",
        "print(almost_there(150))\n",
        "print(almost_there(209))"
      ]
    },
    {
      "cell_type": "markdown",
      "metadata": {
        "id": "NtKIBOQxu1Ri"
      },
      "source": [
        "#### BLACKJACK: Given three integers between 1 and 11, if their sum is less than or equal to 21, return their sum. If their sum exceeds 21 *and* there's an eleven, reduce the total sum by 10. Finally, if the sum  exceeds 21, return 'BUST'\n",
        "    blackjack(5,6,7) --> 18\n",
        "    blackjack(9,9,9) --> 'BUST'\n",
        "    blackjack(9,9,11) --> 19"
      ]
    },
    {
      "cell_type": "code",
      "execution_count": 24,
      "metadata": {
        "id": "Q-NjwzfSu1Ri",
        "colab": {
          "base_uri": "https://localhost:8080/"
        },
        "outputId": "08a64962-72a4-4bfa-eb49-d39c189ad20c"
      },
      "outputs": [
        {
          "output_type": "stream",
          "name": "stdout",
          "text": [
            "18\n",
            "BUST\n",
            "19\n"
          ]
        }
      ],
      "source": [
        "def blackjack(n1,n2,n3):\n",
        "  sum=n1+n2+n3\n",
        "  if sum<=21:\n",
        "    return sum\n",
        "  elif sum>21 and (n1==11 or n2==11 or n3==11):\n",
        "    sum -= 10\n",
        "    return sum\n",
        "  else:\n",
        "    return 'BUST'\n",
        "\n",
        "print(blackjack(5,6,7))  \n",
        "print(blackjack(9,9,9)) \n",
        "print(blackjack(9,9,11))       "
      ]
    }
  ],
  "metadata": {
    "kernelspec": {
      "display_name": "Python 3",
      "language": "python",
      "name": "python3"
    },
    "language_info": {
      "codemirror_mode": {
        "name": "ipython",
        "version": 3
      },
      "file_extension": ".py",
      "mimetype": "text/x-python",
      "name": "python",
      "nbconvert_exporter": "python",
      "pygments_lexer": "ipython3",
      "version": "3.8.5"
    },
    "colab": {
      "name": "Assignment 3.ipynb",
      "provenance": [],
      "collapsed_sections": []
    }
  },
  "nbformat": 4,
  "nbformat_minor": 0
}